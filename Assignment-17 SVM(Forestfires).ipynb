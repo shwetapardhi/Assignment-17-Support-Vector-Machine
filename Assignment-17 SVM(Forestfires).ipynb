{
 "cells": [
  {
   "cell_type": "markdown",
   "id": "d108da8f",
   "metadata": {},
   "source": [
    "## 1. Importing Libraries"
   ]
  },
  {
   "cell_type": "code",
   "execution_count": 11,
   "id": "a4199336",
   "metadata": {
    "ExecuteTime": {
     "end_time": "2023-12-17T08:55:36.934485Z",
     "start_time": "2023-12-17T08:55:36.917998Z"
    }
   },
   "outputs": [],
   "source": [
    "import numpy as np\n",
    "import pandas as pd\n",
    "from sklearn import preprocessing\n",
    "from sklearn import metrics\n",
    "import seaborn as sns\n",
    "from sklearn.svm import SVC\n",
    "from sklearn.model_selection import train_test_split\n",
    "from matplotlib import pyplot as plt\n",
    "from sklearn.decomposition import PCA\n",
    "from sklearn.preprocessing import StandardScaler\n",
    "from mlxtend.plotting import plot_decision_regions\n",
    "import warnings\n",
    "warnings.filterwarnings('ignore')\n",
    "%matplotlib inline"
   ]
  },
  {
   "cell_type": "markdown",
   "id": "377ad00b",
   "metadata": {},
   "source": [
    "## 2. Importing Data"
   ]
  },
  {
   "cell_type": "code",
   "execution_count": 12,
   "id": "501f0a19",
   "metadata": {
    "ExecuteTime": {
     "end_time": "2023-12-17T08:55:37.952987Z",
     "start_time": "2023-12-17T08:55:37.936989Z"
    }
   },
   "outputs": [],
   "source": [
    "df= pd.read_csv(\"forestfires.csv\")\n"
   ]
  },
  {
   "cell_type": "markdown",
   "id": "9a42d0ad",
   "metadata": {},
   "source": [
    "## 3. Data Understanding"
   ]
  },
  {
   "cell_type": "code",
   "execution_count": 13,
   "id": "ead2fb3c",
   "metadata": {
    "ExecuteTime": {
     "end_time": "2023-12-17T08:55:39.038157Z",
     "start_time": "2023-12-17T08:55:39.030632Z"
    }
   },
   "outputs": [
    {
     "name": "stdout",
     "output_type": "stream",
     "text": [
      "No. of observations:517\n",
      "No. of features:31\n"
     ]
    }
   ],
   "source": [
    "print('No. of observations:{}\\nNo. of features:{}'.format(df.shape[0],df.shape[1]))"
   ]
  },
  {
   "cell_type": "code",
   "execution_count": 14,
   "id": "c86b6ecd",
   "metadata": {
    "ExecuteTime": {
     "end_time": "2023-12-17T08:55:39.677470Z",
     "start_time": "2023-12-17T08:55:39.613834Z"
    }
   },
   "outputs": [
    {
     "data": {
      "text/html": [
       "<div>\n",
       "<style scoped>\n",
       "    .dataframe tbody tr th:only-of-type {\n",
       "        vertical-align: middle;\n",
       "    }\n",
       "\n",
       "    .dataframe tbody tr th {\n",
       "        vertical-align: top;\n",
       "    }\n",
       "\n",
       "    .dataframe thead th {\n",
       "        text-align: right;\n",
       "    }\n",
       "</style>\n",
       "<table border=\"1\" class=\"dataframe\">\n",
       "  <thead>\n",
       "    <tr style=\"text-align: right;\">\n",
       "      <th></th>\n",
       "      <th>FFMC</th>\n",
       "      <th>DMC</th>\n",
       "      <th>DC</th>\n",
       "      <th>ISI</th>\n",
       "      <th>temp</th>\n",
       "      <th>RH</th>\n",
       "      <th>wind</th>\n",
       "      <th>rain</th>\n",
       "      <th>area</th>\n",
       "    </tr>\n",
       "  </thead>\n",
       "  <tbody>\n",
       "    <tr>\n",
       "      <th>count</th>\n",
       "      <td>517.000000</td>\n",
       "      <td>517.000000</td>\n",
       "      <td>517.000000</td>\n",
       "      <td>517.000000</td>\n",
       "      <td>517.000000</td>\n",
       "      <td>517.000000</td>\n",
       "      <td>517.000000</td>\n",
       "      <td>517.000000</td>\n",
       "      <td>517.000000</td>\n",
       "    </tr>\n",
       "    <tr>\n",
       "      <th>mean</th>\n",
       "      <td>90.644681</td>\n",
       "      <td>110.872340</td>\n",
       "      <td>547.940039</td>\n",
       "      <td>9.021663</td>\n",
       "      <td>18.889168</td>\n",
       "      <td>44.288201</td>\n",
       "      <td>4.017602</td>\n",
       "      <td>0.021663</td>\n",
       "      <td>12.847292</td>\n",
       "    </tr>\n",
       "    <tr>\n",
       "      <th>std</th>\n",
       "      <td>5.520111</td>\n",
       "      <td>64.046482</td>\n",
       "      <td>248.066192</td>\n",
       "      <td>4.559477</td>\n",
       "      <td>5.806625</td>\n",
       "      <td>16.317469</td>\n",
       "      <td>1.791653</td>\n",
       "      <td>0.295959</td>\n",
       "      <td>63.655818</td>\n",
       "    </tr>\n",
       "    <tr>\n",
       "      <th>min</th>\n",
       "      <td>18.700000</td>\n",
       "      <td>1.100000</td>\n",
       "      <td>7.900000</td>\n",
       "      <td>0.000000</td>\n",
       "      <td>2.200000</td>\n",
       "      <td>15.000000</td>\n",
       "      <td>0.400000</td>\n",
       "      <td>0.000000</td>\n",
       "      <td>0.000000</td>\n",
       "    </tr>\n",
       "    <tr>\n",
       "      <th>25%</th>\n",
       "      <td>90.200000</td>\n",
       "      <td>68.600000</td>\n",
       "      <td>437.700000</td>\n",
       "      <td>6.500000</td>\n",
       "      <td>15.500000</td>\n",
       "      <td>33.000000</td>\n",
       "      <td>2.700000</td>\n",
       "      <td>0.000000</td>\n",
       "      <td>0.000000</td>\n",
       "    </tr>\n",
       "    <tr>\n",
       "      <th>50%</th>\n",
       "      <td>91.600000</td>\n",
       "      <td>108.300000</td>\n",
       "      <td>664.200000</td>\n",
       "      <td>8.400000</td>\n",
       "      <td>19.300000</td>\n",
       "      <td>42.000000</td>\n",
       "      <td>4.000000</td>\n",
       "      <td>0.000000</td>\n",
       "      <td>0.520000</td>\n",
       "    </tr>\n",
       "    <tr>\n",
       "      <th>75%</th>\n",
       "      <td>92.900000</td>\n",
       "      <td>142.400000</td>\n",
       "      <td>713.900000</td>\n",
       "      <td>10.800000</td>\n",
       "      <td>22.800000</td>\n",
       "      <td>53.000000</td>\n",
       "      <td>4.900000</td>\n",
       "      <td>0.000000</td>\n",
       "      <td>6.570000</td>\n",
       "    </tr>\n",
       "    <tr>\n",
       "      <th>max</th>\n",
       "      <td>96.200000</td>\n",
       "      <td>291.300000</td>\n",
       "      <td>860.600000</td>\n",
       "      <td>56.100000</td>\n",
       "      <td>33.300000</td>\n",
       "      <td>100.000000</td>\n",
       "      <td>9.400000</td>\n",
       "      <td>6.400000</td>\n",
       "      <td>1090.840000</td>\n",
       "    </tr>\n",
       "  </tbody>\n",
       "</table>\n",
       "</div>"
      ],
      "text/plain": [
       "             FFMC         DMC          DC         ISI        temp          RH  \\\n",
       "count  517.000000  517.000000  517.000000  517.000000  517.000000  517.000000   \n",
       "mean    90.644681  110.872340  547.940039    9.021663   18.889168   44.288201   \n",
       "std      5.520111   64.046482  248.066192    4.559477    5.806625   16.317469   \n",
       "min     18.700000    1.100000    7.900000    0.000000    2.200000   15.000000   \n",
       "25%     90.200000   68.600000  437.700000    6.500000   15.500000   33.000000   \n",
       "50%     91.600000  108.300000  664.200000    8.400000   19.300000   42.000000   \n",
       "75%     92.900000  142.400000  713.900000   10.800000   22.800000   53.000000   \n",
       "max     96.200000  291.300000  860.600000   56.100000   33.300000  100.000000   \n",
       "\n",
       "             wind        rain         area  \n",
       "count  517.000000  517.000000   517.000000  \n",
       "mean     4.017602    0.021663    12.847292  \n",
       "std      1.791653    0.295959    63.655818  \n",
       "min      0.400000    0.000000     0.000000  \n",
       "25%      2.700000    0.000000     0.000000  \n",
       "50%      4.000000    0.000000     0.520000  \n",
       "75%      4.900000    0.000000     6.570000  \n",
       "max      9.400000    6.400000  1090.840000  "
      ]
     },
     "execution_count": 14,
     "metadata": {},
     "output_type": "execute_result"
    }
   ],
   "source": [
    "df[df.columns[0:11]].describe()"
   ]
  },
  {
   "cell_type": "code",
   "execution_count": 15,
   "id": "9c5e769f",
   "metadata": {
    "ExecuteTime": {
     "end_time": "2023-12-17T08:55:40.131264Z",
     "start_time": "2023-12-17T08:55:40.116942Z"
    }
   },
   "outputs": [
    {
     "data": {
      "text/plain": [
       "month    0\n",
       "day      0\n",
       "FFMC     0\n",
       "DMC      0\n",
       "DC       0\n",
       "ISI      0\n",
       "temp     0\n",
       "RH       0\n",
       "wind     0\n",
       "rain     0\n",
       "area     0\n",
       "dtype: int64"
      ]
     },
     "execution_count": 15,
     "metadata": {},
     "output_type": "execute_result"
    }
   ],
   "source": [
    "df[df.columns[0:11]].isnull().sum()"
   ]
  },
  {
   "cell_type": "markdown",
   "id": "14305867",
   "metadata": {},
   "source": [
    "### Finding Correlation"
   ]
  },
  {
   "cell_type": "code",
   "execution_count": 16,
   "id": "cfa4eb74",
   "metadata": {
    "ExecuteTime": {
     "end_time": "2023-12-17T08:55:41.489505Z",
     "start_time": "2023-12-17T08:55:41.480631Z"
    }
   },
   "outputs": [],
   "source": [
    "corr= df[df.columns[0:11]].corr()"
   ]
  },
  {
   "cell_type": "code",
   "execution_count": 17,
   "id": "131b5464",
   "metadata": {
    "ExecuteTime": {
     "end_time": "2023-12-17T08:55:45.096963Z",
     "start_time": "2023-12-17T08:55:43.980578Z"
    }
   },
   "outputs": [
    {
     "data": {
      "text/plain": [
       "<Axes: >"
      ]
     },
     "execution_count": 17,
     "metadata": {},
     "output_type": "execute_result"
    },
    {
     "data": {
      "image/png": "[encoded data removed]",
      "text/plain": [
       "<Figure size 1200x1400 with 2 Axes>"
      ]
     },
     "metadata": {},
     "output_type": "display_data"
    }
   ],
   "source": [
    "plt.figure(figsize=(12,14))\n",
    "sns.heatmap(corr,annot=True)"
   ]
  },
  {
   "cell_type": "markdown",
   "id": "7ad3a0b7",
   "metadata": {},
   "source": [
    "## 4. SVM"
   ]
  },
  {
   "cell_type": "code",
   "execution_count": 18,
   "id": "fd932e8a",
   "metadata": {
    "ExecuteTime": {
     "end_time": "2023-12-17T08:55:55.456230Z",
     "start_time": "2023-12-17T08:55:55.448251Z"
    }
   },
   "outputs": [],
   "source": [
    "X= df.iloc[:,2:30]\n",
    "y= df.iloc[:,30]"
   ]
  },
  {
   "cell_type": "code",
   "execution_count": 19,
   "id": "b2f85ac6",
   "metadata": {
    "ExecuteTime": {
     "end_time": "2023-12-17T08:55:56.950724Z",
     "start_time": "2023-12-17T08:55:56.944181Z"
    }
   },
   "outputs": [],
   "source": [
    "mapping= {'small': 1, 'large': 2}"
   ]
  },
  {
   "cell_type": "code",
   "execution_count": 20,
   "id": "627b9610",
   "metadata": {
    "ExecuteTime": {
     "end_time": "2023-12-17T08:55:57.674994Z",
     "start_time": "2023-12-17T08:55:57.665395Z"
    }
   },
   "outputs": [],
   "source": [
    "y= y.replace(mapping)"
   ]
  },
  {
   "cell_type": "code",
   "execution_count": 27,
   "id": "987c990b",
   "metadata": {
    "ExecuteTime": {
     "end_time": "2023-12-17T08:57:11.533645Z",
     "start_time": "2023-12-17T08:57:11.523581Z"
    }
   },
   "outputs": [],
   "source": [
    "x_train,x_test,y_train,y_test = train_test_split(X,y,test_size= 0.2, random_state=1)"
   ]
  },
  {
   "cell_type": "markdown",
   "id": "90a8d6bc",
   "metadata": {},
   "source": [
    "###  Linear"
   ]
  },
  {
   "cell_type": "code",
   "execution_count": 28,
   "id": "529fa45c",
   "metadata": {
    "ExecuteTime": {
     "end_time": "2023-12-17T08:57:13.064261Z",
     "start_time": "2023-12-17T08:57:13.006459Z"
    }
   },
   "outputs": [
    {
     "name": "stdout",
     "output_type": "stream",
     "text": [
      "Accuracy: 1.0\n"
     ]
    }
   ],
   "source": [
    "model_linear= SVC(kernel= \"linear\")\n",
    "model_linear.fit(x_train,y_train)\n",
    "pred_test_linear= model_linear.predict(x_test)\n",
    "print(\"Accuracy:\",metrics.accuracy_score(y_test, pred_test_linear))"
   ]
  },
  {
   "cell_type": "markdown",
   "id": "fcdd10cb",
   "metadata": {},
   "source": [
    "###  Poly"
   ]
  },
  {
   "cell_type": "code",
   "execution_count": 29,
   "id": "bf1fb305",
   "metadata": {
    "ExecuteTime": {
     "end_time": "2023-12-17T08:57:14.378962Z",
     "start_time": "2023-12-17T08:57:14.344283Z"
    }
   },
   "outputs": [
    {
     "name": "stdout",
     "output_type": "stream",
     "text": [
      "Accuracy: 0.7788461538461539\n"
     ]
    }
   ],
   "source": [
    "model_poly= SVC(kernel= \"poly\")\n",
    "model_poly.fit(x_train,y_train)\n",
    "pred_test_poly= model_poly.predict(x_test)\n",
    "print(\"Accuracy:\",metrics.accuracy_score(y_test, pred_test_poly))"
   ]
  },
  {
   "cell_type": "markdown",
   "id": "48a97687",
   "metadata": {},
   "source": [
    "###  RBF"
   ]
  },
  {
   "cell_type": "code",
   "execution_count": 30,
   "id": "c6728b87",
   "metadata": {
    "ExecuteTime": {
     "end_time": "2023-12-17T08:57:15.946841Z",
     "start_time": "2023-12-17T08:57:15.908716Z"
    }
   },
   "outputs": [
    {
     "name": "stdout",
     "output_type": "stream",
     "text": [
      "Accuracy: 0.7596153846153846\n"
     ]
    }
   ],
   "source": [
    "model_rbf= SVC(kernel= \"rbf\")\n",
    "model_rbf.fit(x_train,y_train)\n",
    "pred_test_rbf= model_rbf.predict(x_test)\n",
    "print(\"Accuracy:\",metrics.accuracy_score(y_test, pred_test_rbf))"
   ]
  },
  {
   "cell_type": "markdown",
   "id": "6a2c3a3d",
   "metadata": {},
   "source": [
    "### Sigmoid"
   ]
  },
  {
   "cell_type": "code",
   "execution_count": 31,
   "id": "26f5edbf",
   "metadata": {
    "ExecuteTime": {
     "end_time": "2023-12-17T08:57:18.690251Z",
     "start_time": "2023-12-17T08:57:18.656824Z"
    }
   },
   "outputs": [
    {
     "name": "stdout",
     "output_type": "stream",
     "text": [
      "Accuracy: 0.6153846153846154\n"
     ]
    }
   ],
   "source": [
    "model_sigmoid= SVC(kernel= \"sigmoid\")\n",
    "model_sigmoid.fit(x_train,y_train)\n",
    "pred_test_sigmoid= model_sigmoid.predict(x_test)\n",
    "print(\"Accuracy:\",metrics.accuracy_score(y_test, pred_test_sigmoid))"
   ]
  },
  {
   "cell_type": "markdown",
   "id": "9b5dddef",
   "metadata": {},
   "source": [
    "## 4 - Conclusion\n",
    "\n"
   ]
  },
  {
   "cell_type": "markdown",
   "id": "01ffc072",
   "metadata": {},
   "source": [
    "## Linear Model gives the best accuracy"
   ]
  },
  {
   "cell_type": "code",
   "execution_count": null,
   "id": "4d9511c1",
   "metadata": {},
   "outputs": [],
   "source": []
  }
 ],
 "metadata": {
  "kernelspec": {
   "display_name": "Python 3 (ipykernel)",
   "language": "python",
   "name": "python3"
  },
  "language_info": {
   "codemirror_mode": {
    "name": "ipython",
    "version": 3
   },
   "file_extension": ".py",
   "mimetype": "text/x-python",
   "name": "python",
   "nbconvert_exporter": "python",
   "pygments_lexer": "ipython3",
   "version": "3.11.4"
  }
 },
 "nbformat": 4,
 "nbformat_minor": 5
}
